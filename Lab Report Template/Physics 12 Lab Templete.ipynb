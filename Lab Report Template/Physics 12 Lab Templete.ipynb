{
 "cells": [
  {
   "cell_type": "markdown",
   "metadata": {},
   "source": [
    "# Lab Title Here\n",
    "\n",
    "### Names: Delete this text and type your name here.\n",
    "\n",
    "## Purpose:\n",
    "This is a statement which indicates the reason(s) for conducting the lab.\n",
    "\n",
    "## Hypothesis:\n",
    "This is a single sentence which briefly describes what you will do, and predicts what you expect will happen."
   ]
  },
  {
   "cell_type": "markdown",
   "metadata": {},
   "source": [
    "## Equipment and Procedure:\n",
    "This will include a list of all the lab equipment (apparatus) used, and a brief description (in point-form) of the steps followed in carrying out the lab. Sometimes this may be simple reference to a page in the lab book. \n",
    "The experimental variable(s) and the dependent variable should be identified.\n",
    "This should indicate how the independent variables are controlled."
   ]
  },
  {
   "cell_type": "markdown",
   "metadata": {},
   "source": [
    "## Observations: \n",
    "These can be recorded in a data table or sometimes in sentence-form. If any calculations are made in the lab, then all equations used must be listed."
   ]
  },
  {
   "cell_type": "code",
   "execution_count": 1,
   "metadata": {
    "collapsed": true
   },
   "outputs": [],
   "source": [
    "# data arrays should be placed here"
   ]
  },
  {
   "cell_type": "code",
   "execution_count": 2,
   "metadata": {
    "collapsed": true
   },
   "outputs": [],
   "source": [
    "#sample calulation if any where made in the data array should be placed here"
   ]
  },
  {
   "cell_type": "markdown",
   "metadata": {},
   "source": [
    "## Data Analysis:\n",
    "This may consist of graphs which represent the data (and the analysis of these graphs), or a discussion of the significance of the data collected. Sometimes individual questions from a lab book are assigned to guide this data analysis.\n",
    "Any unusual trends or results from the lab need to be explained.\n",
    "You will need to add cells, both Markdown and Code this can be done through the Insert menu."
   ]
  },
  {
   "cell_type": "code",
   "execution_count": 4,
   "metadata": {
    "collapsed": true
   },
   "outputs": [],
   "source": [
    "#Add more cells for your calulation "
   ]
  },
  {
   "cell_type": "markdown",
   "metadata": {},
   "source": [
    "## Error Analysis:\n",
    "Make note of any causes for error or potentional causes of error. "
   ]
  },
  {
   "cell_type": "code",
   "execution_count": 3,
   "metadata": {
    "collapsed": true
   },
   "outputs": [],
   "source": [
    "#If an error calulation is required place them here."
   ]
  },
  {
   "cell_type": "markdown",
   "metadata": {},
   "source": [
    "## Conclusion:  \n",
    "This should be a brief statement which indicates whether the hypothesis has been proven to be true or false.</p>\n",
    "The conclusion section should also indicate possible sources of error which might explain questionable results. It should also suggest changes in the design of the experiment to prevent these errors if the experiment is to be done again."
   ]
  },
  {
   "cell_type": "code",
   "execution_count": null,
   "metadata": {
    "collapsed": true
   },
   "outputs": [],
   "source": []
  }
 ],
 "metadata": {
  "anaconda-cloud": {},
  "kernelspec": {
   "display_name": "Python [Root]",
   "language": "python",
   "name": "Python [Root]"
  },
  "language_info": {
   "codemirror_mode": {
    "name": "ipython",
    "version": 3
   },
   "file_extension": ".py",
   "mimetype": "text/x-python",
   "name": "python",
   "nbconvert_exporter": "python",
   "pygments_lexer": "ipython3",
   "version": "3.5.2"
  }
 },
 "nbformat": 4,
 "nbformat_minor": 0
}

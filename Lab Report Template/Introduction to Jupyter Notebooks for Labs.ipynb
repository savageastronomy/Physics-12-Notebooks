{
 "cells": [
  {
   "cell_type": "markdown",
   "metadata": {},
   "source": [
    "## Introduction to Jupyter Notebooks for Labs: Hooke's Law and the Spring Constant\n",
    "You will be collecting data and analysising that data in the templete provide.  This document will provide the background and other information you will need to sucessfully complete your lab write up. </p> \n",
    "The lab you are doing is on Hook's Law which you will be using to find the spring constant $(k)$. Below is the Wiki on the topic, read the first section."
   ]
  },
  {
   "cell_type": "code",
   "execution_count": 3,
   "metadata": {
    "collapsed": false
   },
   "outputs": [
    {
     "data": {
      "text/html": [
       "<iframe src=https://en.wikipedia.org/wiki/Hooke%27s_law width=970 height=550></iframe>"
      ],
      "text/plain": [
       "<IPython.core.display.HTML object>"
      ]
     },
     "execution_count": 3,
     "metadata": {},
     "output_type": "execute_result"
    }
   ],
   "source": [
    "from IPython.core.display import HTML\n",
    "HTML('<iframe src=https://en.wikipedia.org/wiki/Hooke%27s_law width=970 height=550></iframe>')"
   ]
  },
  {
   "cell_type": "markdown",
   "metadata": {},
   "source": [
    "## Purpose:\n",
    "The purpose of this lab is to find the spring constant for a spring provided to you by your teacher. In the template notebook double click on the cell marked \"Purpose\", highlight the text in and replace it with your purpose. Use your own words!\n",
    "\n",
    "##  Hypothesis:\n",
    "Hightlight the text in this cell of the template and replace them with what you think is going to be the result of the lab. Don't forget a hypothesis is a tentative, testable answer to a scientific question. Once a scientist has a scientific question she is interested in, the scientist reads up to find out what is already known on the topic. Then she uses that information to form a tentative answer to her scientific question. Sometimes people refer to the tentative answer as \"an educated guess.\" Keep in mind, though, that the hypothesis also has to be testable since the next step is to do an experiment to determine whether or not the hypothesis is right! \n",
    "\n",
    "## Equipment and Procedure:\n",
    "Here is a list of the equipment you get: mass set, ring stand, test tube clamp, metre stick.\n",
    "Using this equipment your job is to come up with a method of finding your springs constant, this means you need to write up your own procedures.  Again highlight and replace the words in the template.\n",
    "\n",
    "##  Observations:\n",
    "Don't forget your job is to keep everything constant but what you are trying to measure, the stretch of the spring. Its your job to come up with a way of doing this with the minimum amount of possible error. Record you data in two 1D arrays. One for the Dependant variable and the other for the Independent variable. Don't forget to display the variables as ordered pairs, see Lesson 1 if you need a fresher."
   ]
  },
  {
   "cell_type": "code",
   "execution_count": 4,
   "metadata": {
    "collapsed": false
   },
   "outputs": [
    {
     "data": {
      "text/html": [
       "<iframe src=http://examples.yourdictionary.com/independent-and-dependent-variable-examples.html width=970 height=550></iframe>"
      ],
      "text/plain": [
       "<IPython.core.display.HTML object>"
      ]
     },
     "execution_count": 4,
     "metadata": {},
     "output_type": "execute_result"
    }
   ],
   "source": [
    "HTML('<iframe src=http://examples.yourdictionary.com/independent-and-dependent-variable-examples.html width=970 height=550></iframe>')"
   ]
  },
  {
   "cell_type": "markdown",
   "metadata": {
    "collapsed": true
   },
   "source": [
    "Under your data don't forget to include a sample calculation of any calculations need to complete the table. In this case you may have one. </p>\n",
    "## Data Analysis:\n",
    "In this section you will need to graph your data.\n",
    "Next you will need to find the equation for the line of best fit to your data.  Don't forget you need the slope of the line.</p>\n",
    "Here is the way we can find the slope using numpy and matplotlib. Fist I will import the two libraries and generate two 1D arrays.  If you look at my arrays you will see that it is one to one therefore the line will be linear and run at a 45 degree angle, the slope will be 1."
   ]
  },
  {
   "cell_type": "code",
   "execution_count": 2,
   "metadata": {
    "collapsed": false
   },
   "outputs": [
    {
     "name": "stdout",
     "output_type": "stream",
     "text": [
      "[ 0.  1.  2.  3.  4.  5.]\n",
      "[ 0.  1.  2.  3.  4.  5.]\n"
     ]
    },
    {
     "data": {
      "text/plain": [
       "[<matplotlib.lines.Line2D at 0x7fb8bace7a90>]"
      ]
     },
     "execution_count": 2,
     "metadata": {},
     "output_type": "execute_result"
    },
    {
     "data": {
      "image/png": "[encoded data removed]",
      "text/plain": [
       "<matplotlib.figure.Figure at 0x7fb8c1fe9128>"
      ]
     },
     "metadata": {},
     "output_type": "display_data"
    }
   ],
   "source": [
    "import numpy as np\n",
    "import matplotlib.pyplot as plt\n",
    "%matplotlib inline \n",
    "x = np.array([0.0, 1.0, 2.0, 3.0, 4.0, 5.0])\n",
    "y = np.array([0.0, 1.0, 2.0, 3.0, 4.0, 5.0])\n",
    "print (x)\n",
    "print (y)\n",
    "plt.plot (x,y, 'o r')\n",
    "#plt.show ()"
   ]
  },
  {
   "cell_type": "markdown",
   "metadata": {},
   "source": [
    "The numpy command polyfit will fit the equation for the line based on the following notation as follows:</p>\n",
    "polyfit (name of your x data, name of your y data, the degree of the equation you need), in our case the x varaible is x, the y variable is y and the degree is the first degree. "
   ]
  },
  {
   "cell_type": "code",
   "execution_count": 4,
   "metadata": {
    "collapsed": false
   },
   "outputs": [
    {
     "name": "stdout",
     "output_type": "stream",
     "text": [
      "[  1.00000000e+00   1.81298661e-16]\n"
     ]
    }
   ],
   "source": [
    "z = np.polyfit(x, y, 1)\n",
    "print (z)"
   ]
  },
  {
   "cell_type": "markdown",
   "metadata": {
    "collapsed": true
   },
   "source": [
    "The first number is the slope m (1) whereas the second number is the y - intercept (0). The resulting output gives us the equation:\n",
    "\n",
    "y = mx + b = 1x + 0 = x\n",
    "\n",
    "Therefore, the slope of the line is 1, which is what we expected from the data. To find the slope we only needed to add two lines of code. To graph it I will need to plot all three varaibles"
   ]
  },
  {
   "cell_type": "code",
   "execution_count": 5,
   "metadata": {
    "collapsed": false
   },
   "outputs": [
    {
     "data": {
      "text/plain": [
       "[<matplotlib.lines.Line2D at 0x7f51364cbb00>,\n",
       " <matplotlib.lines.Line2D at 0x7f51364cbda0>]"
      ]
     },
     "execution_count": 5,
     "metadata": {},
     "output_type": "execute_result"
    },
    {
     "data": {
      "image/png": "[encoded data removed]",
      "text/plain": [
       "<matplotlib.figure.Figure at 0x7f516800bc18>"
      ]
     },
     "metadata": {},
     "output_type": "display_data"
    }
   ],
   "source": [
    "y2 = 1.00000000e+00*x+1.81298661e-16\n",
    "plt.plot (x, y, 'ro', x, y2, 'g-')"
   ]
  },
  {
   "cell_type": "markdown",
   "metadata": {
    "collapsed": true
   },
   "source": [
    "## Error Analysis:"
   ]
  },
  {
   "cell_type": "markdown",
   "metadata": {
    "collapsed": true
   },
   "source": [
    "## Conclusion:"
   ]
  },
  {
   "cell_type": "code",
   "execution_count": null,
   "metadata": {
    "collapsed": true
   },
   "outputs": [],
   "source": []
  }
 ],
 "metadata": {
  "anaconda-cloud": {},
  "kernelspec": {
   "display_name": "Python [Root]",
   "language": "python",
   "name": "Python [Root]"
  },
  "language_info": {
   "codemirror_mode": {
    "name": "ipython",
    "version": 3
   },
   "file_extension": ".py",
   "mimetype": "text/x-python",
   "name": "python",
   "nbconvert_exporter": "python",
   "pygments_lexer": "ipython3",
   "version": "3.5.2"
  }
 },
 "nbformat": 4,
 "nbformat_minor": 0
}

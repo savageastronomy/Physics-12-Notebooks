{
 "cells": [
  {
   "cell_type": "markdown",
   "metadata": {
    "slideshow": {
     "slide_type": "-"
    }
   },
   "source": [
    "## Introduction to Computational Thinking in Physics 12\n",
    "#### What is Computational Thinking?\n",
    "Computational thinking is a way of solving problems and designing systems that draws on concepts fundamental to computer science. To flourish in today's world, computational thinking has to be a fundamental part of the way people think and understand the world. Through this course you may be experiencing computation thinking for the first time.  At times this process will be very frustrating when you get to this point you need to find some help by asking me questions.</P>\n",
    "#### What is Computational Physics?\n",
    "Computational physics is the study and implementation of numerical analysis to solve problems in physics for which a quantitative theory already exists. Historically, computational physics was the first application of modern computers in science, and is now a subset of computational science. </P>\n",
    "<img src=\"Computational_physics_diagram.png\">\n",
    "What this means is you will be learning a programming language called Python to help solve problems in this class.  Each unit will have a set of problems based on the unit material that you will need to solve by writing code.</P>\n",
    "### Computational Physics a simple example:\n",
    "Lets start with a simple example from Science 10:\n",
    "A car is travelling at a velocity of 33.33 m/s for 22.21 s how far will the car travel in this time?\n",
    "The information we have is: v = 33.33 metres/second, t = 22.21 seconds and we need to find distance d = ?\n",
    "In Science 10 your teacher should have told you that the velocity of an object is found by dividing the distance the object travels by the amount of time it took to cover the distance or </P>\n",
    "$$v = {d} / {t}$$\n",
    "So if we want to find the distance travelled in the time give that would be </P>\n",
    "$$d = {v} * {t}$$\n",
    "Let us write that need code.  Here are the step we can use:\n",
    "1. Our first step is to set the variables\n",
    "2. Entre the equation using our variables\n",
    "3. Ask the computer to print the answer</P>\n",
    "\n",
    "<b>Note</b>-We will not be using units at first, we will look at there use later.</P>\n",
    "\n",
    "To run the a code cell you need to click on the cell and then type shift and enter at the same time. Try this on the cell below."
   ]
  },
  {
   "cell_type": "code",
   "execution_count": null,
   "metadata": {
    "collapsed": false
   },
   "outputs": [],
   "source": [
    "velocity = 33.33\n",
    "time = 22.21\n",
    "distance = velocity * time\n",
    "print (distance)"
   ]
  },
  {
   "cell_type": "markdown",
   "metadata": {
    "collapsed": true
   },
   "source": [
    "The above cell is a very simple computer program. A program being a set of instructions for the computer to follow, in this case the computer would read the instruction as follows:\n",
    "\n",
    "Line 1: make a variable called \"velocity\" and set it to the value of 33.33.  This means that whenever the computer see the word velocity it will replace it with 33.33\n",
    "\n",
    "Line 2: make a variable called \"time\" and set it to the value of 22.21.  Again whenever the variable time is called for the computer knows that it has a value of 22.21.\n",
    "\n",
    "Line 3: make a variable called \"distance\" and set it to the value of \"velocity\" * (which means to multiply) \"distance\"\n",
    "\n",
    "Line 4: the computer is told to output the variable distance to the screen of the computer.\n",
    "#### Introduction to Errors</P>\n",
    "The computer reads the program from top to bottom so if line 1 is moved below line 4 the computer does not know what velocity_1 is resulting in an error.  At this point you will need to debug the program, find out what went wrong and then fix it.  Try running the code below, click on the cell and then type shift and enter at the same time."
   ]
  },
  {
   "cell_type": "code",
   "execution_count": null,
   "metadata": {
    "collapsed": false,
    "scrolled": true
   },
   "outputs": [],
   "source": [
    "time_1 = 22.21\n",
    "distance = velocity_1 * time_1\n",
    "print (distance)\n",
    "velocity_1 = 33.33"
   ]
  },
  {
   "cell_type": "markdown",
   "metadata": {},
   "source": [
    "The last line in the error massage is the most important, it tells you what your error is, in this case the computer has no idea what you mean by velocity_1.  The ----> tells you where your error is, in this case line 2. <p/>Error codes can be found here: https://docs.python.org/3.5/tutorial/errors.html The Notebook can display live webpages, running the code below will display the error page on the Python site."
   ]
  },
  {
   "cell_type": "code",
   "execution_count": null,
   "metadata": {
    "collapsed": false
   },
   "outputs": [],
   "source": [
    "from IPython.core.display import HTML\n",
    "HTML('<iframe src=https://docs.python.org/3.5/tutorial/errors.html width=900 height=550></iframe>')"
   ]
  },
  {
   "cell_type": "markdown",
   "metadata": {
    "collapsed": true
   },
   "source": [
    "Debugging a program is a skill that can only be developed with practice. The more you program the more bugs you will get and in complicated programs the bugs can be very hard to debug.</P>\n",
    "##### Problem 1: Your first computational code.</P>\n",
    "<P>Your turn to code by writing a program to find the solution to the following problem:</P>\n",
    "A car is travelling at an average velocity of 21.25 m/s for a distance of 123.24 metres how long will the car be travelling for the given distance?\n",
    "The information we have is: v = 21.25 m/s, d = 123.24 s and we need to find distance t = ? Rearrange the equation v=d/t for d write the new code.<P> You can add more cells, if needed, by clicking the <I> Insert </I> tab above and <I> Insert cell below</I>. Your program will be graded when you hand in the Notebook click the save icon to save your work."
   ]
  },
  {
   "cell_type": "code",
   "execution_count": null,
   "metadata": {
    "collapsed": true
   },
   "outputs": [],
   "source": []
  },
  {
   "cell_type": "markdown",
   "metadata": {},
   "source": [
    "What would be ideal is for the program to rearrange the formula for us and then find the answer.  All we have to do is set the variables for the equation. But to do this we will need to learn some more about programming in general and Python in specific first.</P>\n",
    "#### Including all the Elements </P>\n",
    "Just like pencil and paper work a problem's solution must contain specific components: define variables, populated equations, answer in the form of a statement.<P>Lets redo the first problem we solved in this format.<P>Start with the varibles which we will turn into computer variables:"
   ]
  },
  {
   "cell_type": "code",
   "execution_count": null,
   "metadata": {
    "collapsed": true
   },
   "outputs": [],
   "source": [
    "#definition of variables\n",
    "v_i = 33.33\n",
    "t_i = 22.21"
   ]
  },
  {
   "cell_type": "markdown",
   "metadata": {},
   "source": [
    "Notice that I started the cell with a # statement, this is a note it is not code, these messages are meant for the reader of the code and are used to explain what is going on. I also used shorter names for my variables which mean less typing, a variables names can be as long as needed but if it is two or more words they must be separated with an underscore _.<P>Our next step is to generate an equation that will solve our problem."
   ]
  },
  {
   "cell_type": "code",
   "execution_count": null,
   "metadata": {
    "collapsed": false
   },
   "outputs": [],
   "source": [
    "# solution equation from v=d/t\n",
    "d=v_i*t_i\n",
    "d"
   ]
  },
  {
   "cell_type": "markdown",
   "metadata": {},
   "source": [
    "Now we need a statement, time for some new coding syntax. Syntax is the form and function of a computer language, in our case Python. Syntax is very specfic and any deviations from it will result in an error that will force your program to halt and you to debug.  As you go through the tutorials for Computational Physics you need to look very closely at the syntax! For example in the code below note the use of % and the result of its use. "
   ]
  },
  {
   "cell_type": "code",
   "execution_count": null,
   "metadata": {
    "collapsed": false
   },
   "outputs": [],
   "source": [
    "#statement with answer\n",
    "print ('The car travelled %d metres in the given time.' %d)"
   ]
  },
  {
   "cell_type": "markdown",
   "metadata": {},
   "source": [
    "Note that through the use of % the variable d, distance was dropped into the statement at the end of our calculation. Our job as a computational physicists is to make our code as transparent as possible and our program as simple as possible.  In many cases this means that our programs will be less than 20 lines however, some programs will need to be over 50 lines to get the job done.  Inside the Jupyter Notebook environment we have the opportunity to explain the background physics and how and why we chose the solution. These explanations are done in Markdown cells, like this one.  <P> We could put this into one cell making our work neater, here's how that would look."
   ]
  },
  {
   "cell_type": "code",
   "execution_count": null,
   "metadata": {
    "collapsed": false
   },
   "outputs": [],
   "source": [
    "#definition of variables\n",
    "v_i = 33.33\n",
    "t_i = 22.21\n",
    "# solution equation from v=d/t\n",
    "d=v_i*t_i\n",
    "#statement with answer\n",
    "print ('The car travelled %d metres in the given time.' %d)"
   ]
  },
  {
   "cell_type": "markdown",
   "metadata": {},
   "source": [
    "Notice that the code from the previous cells was copied and pasted into the above cell. We could put this into a stand alone program, but we will look at that later.<P>Ideally we should be able to write a program that allows us to solve multiple problem based on the same theme, not just in physics but any subject, all we do is input the known variables. This is where we are heading, but to start this journey we need to learn to think like a computer and its limitations."
   ]
  },
  {
   "cell_type": "markdown",
   "metadata": {
    "collapsed": true
   },
   "source": [
    "### Variables and Types\n",
    "Python is completely object oriented, and not \"statically typed\" making it easier to understand, write code and programs. You do not need to declare variables before using them, or declare their type. Every variable in Python is an object.</P>\n",
    "\n",
    "#### Numbers\n",
    "Python supports two types of numbers - integers and floating points (it also supports complex numbers, which will not be explained in this tutorial).<P>To define an integer, use the following syntax:</P>"
   ]
  },
  {
   "cell_type": "code",
   "execution_count": null,
   "metadata": {
    "collapsed": false
   },
   "outputs": [],
   "source": [
    "# Here I set a variable called myint to equal 7\n",
    "myint = 7\n",
    "#Now I ask for the computer to output the content of the variable.\n",
    "print(myint)\n",
    "#Just typing the variable's name, without the print command, gets the same output \n",
    "#but this is not a clean way to write code.\n",
    "myint"
   ]
  },
  {
   "cell_type": "markdown",
   "metadata": {},
   "source": [
    "Notice that the output for the print statement comes first followed by the output of the call of the <I>myint</I> variable. The computer runs the code in order, this means you need to think about what you want the computer to do before you start writing code.</P>\n",
    "I could have just typed 7 and run the cell, see below, to get the same output however, I can't call on that integer as a variable in my future code."
   ]
  },
  {
   "cell_type": "code",
   "execution_count": null,
   "metadata": {
    "collapsed": false
   },
   "outputs": [],
   "source": [
    "7"
   ]
  },
  {
   "cell_type": "markdown",
   "metadata": {
    "collapsed": true
   },
   "source": [
    "Integers are limiting in Phyics with floats being much more important.\n",
    "<P>To define a floating point number, you may use one of the following notations:<P/>"
   ]
  },
  {
   "cell_type": "code",
   "execution_count": null,
   "metadata": {
    "collapsed": false
   },
   "outputs": [],
   "source": [
    "myfloat = 7.0\n",
    "#Or\n",
    "myfloat = float(7)\n",
    "print (myfloat)"
   ]
  },
  {
   "cell_type": "markdown",
   "metadata": {
    "collapsed": true
   },
   "source": [
    "The int or integer is a whole number, whereas a float is a number with a decimal value.  In Physics we use a lot of integers like $9.80 m/s^2$ . <P> Variables can also be letters or strings of letters."
   ]
  },
  {
   "cell_type": "code",
   "execution_count": null,
   "metadata": {
    "collapsed": false,
    "scrolled": true
   },
   "outputs": [],
   "source": [
    "myint = 'Hello'\n",
    "print (myint)"
   ]
  },
  {
   "cell_type": "markdown",
   "metadata": {},
   "source": [
    "Notice that the variable myint, which was defined as 7, is now a string that spells out Hello. Another way to print Hello is shown below, again the syntex is import "
   ]
  },
  {
   "cell_type": "code",
   "execution_count": null,
   "metadata": {
    "collapsed": false
   },
   "outputs": [],
   "source": [
    "print (\"Hello\")\n",
    "#Or\n",
    "print ('Hello')"
   ]
  },
  {
   "cell_type": "markdown",
   "metadata": {},
   "source": [
    "Note that the end result is the same, thats one nice thing about Python over other languages."
   ]
  },
  {
   "cell_type": "markdown",
   "metadata": {},
   "source": [
    "###  Calculation\n",
    "Note that the programs above perform simple mathematical operations. In a program math can be done on two types of variables: numbers and strings. Numbers we are familiar with, math with strings less so.<P>\n",
    "Numbers come in two types in Python integer (1, 2, 3, ...) and float (1.1, 2.2, 3.14,. . .) with these two types of numbers we can do simple math, we will do complex math in another notebook."
   ]
  },
  {
   "cell_type": "code",
   "execution_count": null,
   "metadata": {
    "collapsed": false
   },
   "outputs": [],
   "source": [
    "a = 2    # Integer\n",
    "b = 3.4  # Float\n",
    "\n",
    "print (a + b)    # Addition\n",
    "print (b - a )   # Subtraction\n",
    "print (a * b)    # Multiplication\n",
    "print (a**2)     #Power"
   ]
  },
  {
   "cell_type": "markdown",
   "metadata": {
    "collapsed": true
   },
   "source": [
    "Try changing the values of the variables a and b above and rerunning the code.  Of course you can do this math in your head or with a calculator but the power of computational physics is being able to do repetitive calculations quickly. </P>There is something important to note when it comes to division.  Run the cells below "
   ]
  },
  {
   "cell_type": "code",
   "execution_count": null,
   "metadata": {
    "collapsed": false
   },
   "outputs": [],
   "source": [
    "a = 7\n",
    "b = 3\n",
    "c = 3.0\n",
    "\n",
    "# Division?\n",
    "print (a / b)    \n",
    "print (a / c)"
   ]
  },
  {
   "cell_type": "markdown",
   "metadata": {},
   "source": [
    "Notice that both of these print functions have the same output unless you are running an older version of Python in which case they don't.  Older versions of Python rounds the division of integers and only shows the actual value when a float is used.  \n",
    "\n",
    "Now lets look at math with string, a group of letter and/or numbers strung together."
   ]
  },
  {
   "cell_type": "code",
   "execution_count": null,
   "metadata": {
    "collapsed": false
   },
   "outputs": [],
   "source": [
    "a = \"Hello\"  # String\n",
    "b = \" World\" # Another string\n",
    "\n",
    "print (a + b)  # this will output verable a added to b\n",
    "\n",
    "name = \"Mad World\"\n",
    "print (\"Hello, %s!\" % name) # String format"
   ]
  },
  {
   "cell_type": "markdown",
   "metadata": {},
   "source": [
    "Note that the last two lines of this code use a variable, name, and an output format that imbeds the variable output in a print function. The first % is used to tell Python where you want to place the variable, the second % tells Python what to put there, in this case the variable name.\n",
    "\n",
    "One of the nice things about Python is that no matter what you do in Python you can't break the computer.  However, we can crash the program when we tell Python to do something it does not understand. Here is an example:"
   ]
  },
  {
   "cell_type": "code",
   "execution_count": null,
   "metadata": {
    "collapsed": false
   },
   "outputs": [],
   "source": [
    "a=4\n",
    "b=(\"Five \")\n",
    "\n",
    "c= a+b\n",
    "print(c)"
   ]
  },
  {
   "cell_type": "markdown",
   "metadata": {},
   "source": [
    "The output is an error, notice that the line with the error is indicated by an arrow (---->) and a line number, 4 in this case. The \"TypeError\" tells you what went wrong. Error codes are Python's way of telling you it doesn't understand what you are asking it to do. In this case adding an integer to a string. It then becomes the job of the programmer, you, to fix the error; again this is called debugging a program. In this case we could change the + to a * and see what happens.<p/> We have seen how % can be used in a statement, now we are going to look at an operator that we allow the using to input a value and have it used as a variable."
   ]
  },
  {
   "cell_type": "code",
   "execution_count": null,
   "metadata": {
    "collapsed": false
   },
   "outputs": [],
   "source": [
    "print ('This program will find the area of a circle.')\n",
    "rad = int(input(\"Enter radius in centemetres:\"))\n",
    "area = 3.14*(rad**2)\n",
    "print (\"The area of the circle is %s\" %area)"
   ]
  },
  {
   "cell_type": "markdown",
   "metadata": {},
   "source": [
    "In the program above the important line is # 2, which is an input line.  As you can see, by running the program, this line opens an input box that waits for a radius value to be entered. What ever value is input is assigned to the variable rad and then used in the rest of the program. When you rerun the program you can find the area of many different circles by entering different radii."
   ]
  },
  {
   "cell_type": "markdown",
   "metadata": {},
   "source": [
    "Now it's your turn. In the code cell below write a program that computes and outputs the volume of a sphere where the radius is input by the user. The input and output should be in the form of a sentence. Once you have a working program click the save icon at the top of the screen. Don't forget to include comments."
   ]
  },
  {
   "cell_type": "code",
   "execution_count": null,
   "metadata": {
    "collapsed": false
   },
   "outputs": [],
   "source": []
  },
  {
   "cell_type": "markdown",
   "metadata": {
    "collapsed": true
   },
   "source": [
    "Before you hand in this tutorial you will need to change its name using the following format yourname_PH12_CT_1 relpace your first and last name for yourname.  Email me your tutorial at my school email account."
   ]
  },
  {
   "cell_type": "code",
   "execution_count": null,
   "metadata": {
    "collapsed": true
   },
   "outputs": [],
   "source": []
  }
 ],
 "metadata": {
  "anaconda-cloud": {},
  "kernelspec": {
   "display_name": "Python [Root]",
   "language": "python",
   "name": "Python [Root]"
  },
  "language_info": {
   "codemirror_mode": {
    "name": "ipython",
    "version": 3
   },
   "file_extension": ".py",
   "mimetype": "text/x-python",
   "name": "python",
   "nbconvert_exporter": "python",
   "pygments_lexer": "ipython3",
   "version": "3.5.2"
  }
 },
 "nbformat": 4,
 "nbformat_minor": 0
}

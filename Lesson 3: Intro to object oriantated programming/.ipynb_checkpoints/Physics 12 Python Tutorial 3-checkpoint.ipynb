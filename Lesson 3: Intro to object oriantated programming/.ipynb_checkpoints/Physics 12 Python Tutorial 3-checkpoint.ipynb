{
 "cells": [
  {
   "cell_type": "markdown",
   "metadata": {},
   "source": [
    "# Physics 12 Python Tutorial 3\n",
    "\n",
    "This Notebook is going to look at the graphing of data using Python code. I have already given you a preview at the end of the last tutorial. This time there is going to be a lot more detail that relays on what you have learnt over the past two Notebooks to understand this new stuff."
   ]
  },
  {
   "cell_type": "markdown",
   "metadata": {
    "collapsed": true
   },
   "source": [
    "Sample Graphs\n",
    "\n",
    "To start we are going to look at some of the 2D graphs available in Python to do this we are going to use some basic graphs you many have seen in your math class (sin, cos, quadratic etc.). We need to import the library Matplotlib, which is Python's main graphing library, however this time we will only import a small part of the whole library.  We do this to save space in the computer's memory. The second line in the program tells the Notebook to show all graphs in-line (within the notebook)."
   ]
  },
  {
   "cell_type": "code",
   "execution_count": null,
   "metadata": {
    "collapsed": true
   },
   "outputs": [],
   "source": [
    "from pylab import *\n",
    "%matplotlib inline"
   ]
  },
  {
   "cell_type": "markdown",
   "metadata": {},
   "source": [
    "Our first plot is called a simple plot."
   ]
  },
  {
   "cell_type": "code",
   "execution_count": null,
   "metadata": {
    "collapsed": false
   },
   "outputs": [],
   "source": [
    "time = arange(0.0, 2.0, 0.05)\n",
    "sin_function = sin(2*pi*time)\n",
    "plot(time, sin_function, 'g-^')"
   ]
  },
  {
   "cell_type": "markdown",
   "metadata": {},
   "source": [
    "Lets look at what each line does:\n",
    "    1. We have seen arange before it allows us to generate an array, in this case from 0.0 to 2.0 in 0.01 increments. The variable name is time, which is our x axis data.\n",
    "    2. The next line uses the math function sin(2*pi*time) to generate the y axis data with the variable name sin_function.\n",
    "    3. The last line gives the plot command telling Python to plot time on the x axis and sin_function on the y axis. The g tells python to plot a green line (-) and triangle (^)\n",
    "Of course a graph should be properly labeled to keep the reader informed.  The first three lines are the same as above the others finish off the graph. "
   ]
  },
  {
   "cell_type": "code",
   "execution_count": null,
   "metadata": {
    "collapsed": false
   },
   "outputs": [],
   "source": [
    "time = arange(0.0, 2.0, 0.05)\n",
    "sin_function = sin(2*pi*time)\n",
    "plot(time, sin_function, 'g-^')\n",
    "xlabel('Time (s)')\n",
    "ylabel('Sin Value')\n",
    "title('A simple sin graph')\n",
    "grid(True)"
   ]
  },
  {
   "cell_type": "markdown",
   "metadata": {},
   "source": [
    "Again lets look at these added line and what they do for our program.\n",
    "    4. xlabel tells Python that a label is to be placed on the x axis and what the name is.\n",
    "    5. ylable does the same for the y axis\n",
    "    6. title gives the command to put a title on the graph \n",
    "    7. turns the grid on (True) you can turn it off by deleting the line.\n",
    "In our statistics section for the course we will be using histograms so lets learn how to plot one. First we will need to import some more library:"
   ]
  },
  {
   "cell_type": "code",
   "execution_count": null,
   "metadata": {
    "collapsed": true
   },
   "outputs": [],
   "source": [
    "import numpy as np\n",
    "import matplotlib.mlab as mlab\n",
    "import matplotlib.pyplot as plt"
   ]
  },
  {
   "cell_type": "code",
   "execution_count": null,
   "metadata": {
    "collapsed": false
   },
   "outputs": [],
   "source": [
    "mu = 100\n",
    "sigma = 15 \n",
    "x = mu + sigma * np.random.randn(10000)\n",
    "num_bins = 50\n",
    "n, bins, patches = plt.hist(x, num_bins, normed=1, facecolor='green', alpha=0.5)\n",
    "plt.xlabel('Smarts')\n",
    "plt.ylabel('Probability')\n",
    "plt.title('Histogram of IQ')"
   ]
  },
  {
   "cell_type": "markdown",
   "metadata": {},
   "source": [
    "Notice that we are following the proper method for importing a library by giving it a name.  I have used the recommended names.\n",
    "Again lets do a line by line analysis of the program:\n",
    "\n",
    "    1, 2 and 3. These lines are used to generate the data that will be used to fill the bins of the histogram. We will revist this part of the program later in the course.\n",
    "    4. This line sets up the number of bins that will be used in the graph. \n",
    "    \n",
    "For the rest of the program use a comment (#) to tell me what each line does. As a reader of the code you can tell what library is being used when, for example in line 3 I used numpy to generate random numbers as indicated by np or in line 6,7 and 8 plt is used to call on matplotlib."
   ]
  },
  {
   "cell_type": "code",
   "execution_count": null,
   "metadata": {
    "collapsed": false
   },
   "outputs": [],
   "source": [
    "Y, X = np.mgrid[-3:3:100j, -3:3:100j]\n",
    "U = -1 - X**2 + Y\n",
    "V = 1 + X - Y**2\n",
    "plt.streamplot(X, Y, U, V, color=U, linewidth=2, cmap=plt.cm.autumn)"
   ]
  },
  {
   "cell_type": "markdown",
   "metadata": {},
   "source": [
    "As with the histogram the first few lines generate the data used in the graph.  The last line of the program calls up a streamplot these plots are used in many science to represent the movement of material within a system. We will not be using this type of plot in the course!\n",
    "\n",
    "For our last graph example we will look at a 3D graph.  These graphs are far outside the relem of a high school science class but some of you will be using them at university."
   ]
  },
  {
   "cell_type": "code",
   "execution_count": null,
   "metadata": {
    "collapsed": true
   },
   "outputs": [],
   "source": [
    "from mpl_toolkits.mplot3d import Axes3D\n",
    "from matplotlib import cm"
   ]
  },
  {
   "cell_type": "code",
   "execution_count": null,
   "metadata": {
    "collapsed": false
   },
   "outputs": [],
   "source": [
    "fig = plt.figure()\n",
    "ax = fig.gca(projection='3d')\n",
    "X = np.arange(-5, 5, 0.25)\n",
    "Y = np.arange(-5, 5, 0.25)\n",
    "X, Y = np.meshgrid(X, Y)\n",
    "R = np.sqrt(X**2 + Y**2)\n",
    "Z = np.sin(R)\n",
    "surf = ax.plot_surface(X, Y, Z, rstride=1, cstride=1, cmap=cm.coolwarm,\n",
    "        linewidth=0, antialiased=False)"
   ]
  },
  {
   "cell_type": "markdown",
   "metadata": {},
   "source": [
    "### Plotting Data \n"
   ]
  },
  {
   "cell_type": "markdown",
   "metadata": {},
   "source": [
    "As we have seen in the last Notebook we can input data directly into an array using a numpy array.  If we want a scatter, which we do, we will need to have two arrays for for the x components and the other for the y components. "
   ]
  },
  {
   "cell_type": "code",
   "execution_count": null,
   "metadata": {
    "collapsed": false
   },
   "outputs": [],
   "source": [
    "x = np.array([1,2,3,4,5,6,7,8,9])\n",
    "print (x)"
   ]
  },
  {
   "cell_type": "code",
   "execution_count": null,
   "metadata": {
    "collapsed": false
   },
   "outputs": [],
   "source": [
    "y=np.array([12,14,15,16,18,22,26,29,33])\n",
    "print(y)"
   ]
  },
  {
   "cell_type": "markdown",
   "metadata": {},
   "source": [
    "We can make a run sequence plot as follows:"
   ]
  },
  {
   "cell_type": "code",
   "execution_count": null,
   "metadata": {
    "collapsed": false
   },
   "outputs": [],
   "source": [
    "plt.plot(x,y, '*r')"
   ]
  },
  {
   "cell_type": "markdown",
   "metadata": {},
   "source": [
    "To turn this into a scatter plot we simply add a - in the correct location:"
   ]
  },
  {
   "cell_type": "code",
   "execution_count": null,
   "metadata": {
    "collapsed": false
   },
   "outputs": [],
   "source": [
    "plt.plot(x,y, '*-r')"
   ]
  },
  {
   "cell_type": "markdown",
   "metadata": {
    "collapsed": true
   },
   "source": [
    "Inputting data directly into the Notebook works for small data sets but for large data sets this method can be very time consuming.  Importing the data is much more effective but we need to learn some coding methods. \n",
    "\n",
    "### Importing Data from a file\n",
    "Along with this Notebook you should have downloaded the data file as well, KIC12644769.txt.  Open the data file and have a look at its content.  Note that the data is in a eight by over twenty two thousand or over 176000 data points.  however, not all of these data points are needed so we will need to filter out what we need.  We will do this through data splicing. \n",
    "\n",
    "Before we start make sure the data file \"KIC12644769.txt\" is in the same location as your Jupyter Notebook.  Take a second and look at the data by opening the file. Lets start by importing a large data file."
   ]
  },
  {
   "cell_type": "code",
   "execution_count": null,
   "metadata": {
    "collapsed": false
   },
   "outputs": [],
   "source": [
    "test=loadtxt('KIC12644769.txt')\n",
    "print(test)"
   ]
  },
  {
   "cell_type": "markdown",
   "metadata": {
    "collapsed": true
   },
   "source": [
    "Notice that not all the data points are displayed only the first couple of rows followed by the last. Now that we have a large data set let look at manipulating that data.\n",
    "\n",
    "### Splicing Data\n",
    "We have used the splice command once before but we will review this command in greater detail.\n",
    "\n",
    "A splicing command is setup as follows:\n",
    "\n",
    "    variable_name[lower: upper: step]\n",
    "\n",
    "Extracts a portion of a sequence by specifying a lower and upper bound. The lower-bound element is included, but the upper-bound element is not included. Mathematically: [lower, upper]. The step value specifies the stride between elements. Note that Python always starts counting from zero.\n",
    "\n",
    "\n",
    "Lets use the arrays x and y we made before, the smaller array will allow us to see how this command works. First lets take a look at the two data arrays again."
   ]
  },
  {
   "cell_type": "code",
   "execution_count": null,
   "metadata": {
    "collapsed": false
   },
   "outputs": [],
   "source": [
    "print(x)"
   ]
  },
  {
   "cell_type": "code",
   "execution_count": null,
   "metadata": {
    "collapsed": false
   },
   "outputs": [],
   "source": [
    "print(y)"
   ]
  },
  {
   "cell_type": "code",
   "execution_count": null,
   "metadata": {
    "collapsed": false
   },
   "outputs": [],
   "source": [
    "x[0:1]"
   ]
  },
  {
   "cell_type": "markdown",
   "metadata": {
    "collapsed": true
   },
   "source": [
    "The x tells Python that we want to look at the array called x.  The code can also be written as x[:1]\n",
    "\n",
    "    0 tells Python to look at the first value in the array\n",
    "    1 tells python that we only want the first number, the second entery is the number entered minus one, so one minus one is zero.  Therefore, the output is 1.\n",
    "\n",
    "Here is another, see if it makes sense."
   ]
  },
  {
   "cell_type": "code",
   "execution_count": null,
   "metadata": {
    "collapsed": false
   },
   "outputs": [],
   "source": [
    "x[2:5]"
   ]
  },
  {
   "cell_type": "markdown",
   "metadata": {},
   "source": [
    "I am calling for the third element up to the sixth element (don't forget the fifth element is not show, it is the fifth -1).\n",
    "\n",
    "Now lets try this in the large data set and plot our results. First we will need to cut up the data into two arrays one we will call time the other magnitude."
   ]
  },
  {
   "cell_type": "code",
   "execution_count": null,
   "metadata": {
    "collapsed": false
   },
   "outputs": [],
   "source": [
    "time=test[:,0]\n",
    "print(time)"
   ]
  },
  {
   "cell_type": "code",
   "execution_count": null,
   "metadata": {
    "collapsed": false
   },
   "outputs": [],
   "source": [
    "magnitude=test[:,7]\n",
    "print(magnitude)"
   ]
  },
  {
   "cell_type": "markdown",
   "metadata": {},
   "source": [
    "Now lets plot the data and see how our data looks."
   ]
  },
  {
   "cell_type": "code",
   "execution_count": null,
   "metadata": {
    "collapsed": false
   },
   "outputs": [],
   "source": [
    "grid()\n",
    "xlabel('Time')\n",
    "ylabel('Magnitude')\n",
    "title(\"KIC12644769 Data\")\n",
    "plot(time,magnitude,'k-.')"
   ]
  },
  {
   "cell_type": "markdown",
   "metadata": {},
   "source": [
    "Don't forget you have just plotted over 22000 data point in a matter of seconds. Looking at the data we can see that it has a periodic nature.\n",
    "\n",
    "##### Your turn using the x and y dataset find what the sixth and seventh element of the y array are."
   ]
  },
  {
   "cell_type": "code",
   "execution_count": null,
   "metadata": {
    "collapsed": false
   },
   "outputs": [],
   "source": []
  },
  {
   "cell_type": "markdown",
   "metadata": {},
   "source": [
    "You want the output to be [26,29], once you have the right code please save the Notebook.\n",
    "\n",
    "###### In the cell below write the code to display the numbers from the second to the second to the last number in the x array."
   ]
  },
  {
   "cell_type": "code",
   "execution_count": null,
   "metadata": {
    "collapsed": false
   },
   "outputs": [],
   "source": []
  },
  {
   "cell_type": "markdown",
   "metadata": {},
   "source": [
    "Of course this only works if we know the number of elements within the array.  What would you do if you have no idea of the size or shape of the array.\n",
    "\n",
    "Here is another way to write the code: x[1,-1], replace the code you wrote for this new code to see if you get the same answers.\n",
    "\n",
    "These arrays are very simple, how do these commands look in larger more complex arrays."
   ]
  },
  {
   "cell_type": "code",
   "execution_count": null,
   "metadata": {
    "collapsed": false
   },
   "outputs": [],
   "source": [
    "data=loadtxt('Test Data 2.txt')\n",
    "print(data)"
   ]
  },
  {
   "cell_type": "markdown",
   "metadata": {},
   "source": [
    "As you can see this data is aranged as a 14 by 4 matrix. \n",
    "\n",
    "We can call up elements just like in our simple arrays but we need to add another term that tells Python what column to look at."
   ]
  },
  {
   "cell_type": "code",
   "execution_count": null,
   "metadata": {
    "collapsed": false
   },
   "outputs": [],
   "source": [
    "data[1:4,2]"
   ]
  },
  {
   "cell_type": "markdown",
   "metadata": {},
   "source": [
    "As you can see the code called up the elements 1, 2 and 2 from column 3 (don't forget that Python starts counting at zero). \n",
    "##### Your turn, call up the tenth to thirteenth elements of column 2."
   ]
  },
  {
   "cell_type": "code",
   "execution_count": null,
   "metadata": {
    "collapsed": true
   },
   "outputs": [],
   "source": []
  },
  {
   "cell_type": "markdown",
   "metadata": {},
   "source": [
    "You should have an output of [4, 3, 2].  Now in the next cell write the code to get the same results using negative notation.  Save this version of the Notebook.\n",
    "\n",
    "I am sure that you have noticed that one of the values looks out of place, 189.  This was a type o that we can correct to 18 using Python.  "
   ]
  },
  {
   "cell_type": "code",
   "execution_count": null,
   "metadata": {
    "collapsed": false
   },
   "outputs": [],
   "source": [
    "data[7:8,3]=18\n",
    "print(data)"
   ]
  },
  {
   "cell_type": "markdown",
   "metadata": {},
   "source": [
    "Now lets graph some of the data.  To do this we will need to splice the data into x and y values.   Lets cut out columns 2 (Python column 1) and column 4 (Python column 3)."
   ]
  },
  {
   "cell_type": "code",
   "execution_count": null,
   "metadata": {
    "collapsed": false
   },
   "outputs": [],
   "source": [
    "x=data[:,1]\n",
    "y=data[:,3]\n",
    "plot(x,y, '^-g')"
   ]
  },
  {
   "cell_type": "markdown",
   "metadata": {},
   "source": [
    "The code is telling Python to use only column 2 and 4 plotting the data points with green triangles and connecting them with a green line.\n",
    "\n",
    "##### Your turn.  Plot the data from column 1 and 3 using blue triangles connecting the data points with a line. Once you have the graph save the Notebook."
   ]
  },
  {
   "cell_type": "code",
   "execution_count": null,
   "metadata": {
    "collapsed": true
   },
   "outputs": [],
   "source": []
  }
 ],
 "metadata": {
  "anaconda-cloud": {},
  "kernelspec": {
   "display_name": "Python [Root]",
   "language": "python",
   "name": "Python [Root]"
  },
  "language_info": {
   "codemirror_mode": {
    "name": "ipython",
    "version": 3
   },
   "file_extension": ".py",
   "mimetype": "text/x-python",
   "name": "python",
   "nbconvert_exporter": "python",
   "pygments_lexer": "ipython3",
   "version": "3.5.2"
  }
 },
 "nbformat": 4,
 "nbformat_minor": 0
}

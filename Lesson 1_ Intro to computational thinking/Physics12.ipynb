{
 "cells": [
  {
   "cell_type": "markdown",
   "metadata": {
    "slideshow": {
     "slide_type": "-"
    }
   },
   "source": [
    "## Introduction to Computational Thinking in Physics 12\n",
    "### What is Computational Thinking?\n",
    "Computational thinking is a way of solving problems and developing systems to solve problems that draws on concepts fundamental to computer science. It has become an integral part of our society and to flourish in today's world, computational thinking has to be a fundamental part of the way people think and solve problems.\n",
    "\n",
    "You have been doing computational thinking everyday of your life from putting your clothes on in the morning to cooking an evening meal. In these two cases you have come up with a sequence of events that happen in a specific order. You wouldn't think of putting one pant leg on followed by one shirt arm and then the other pant leg. Early in your childhood you learned or figured out a system for getting dressed that is both effective and safe. That's computational thinking!\n",
    "\n",
    "In the case of this course the process may seem foreign but it is the way you have been solving your physics and math problems since grade school however, now you are going to use a computer and a computer language instead of paper and pen. At times the process maybe very frustrating, when you get to this point you need to find some help by asking me, a fellow student or checking a website called<a href=\\\" http://stackoverflow.com/questions/tagged/python \"> Stack Over Flow </a>. Here you can search for the answer to the problem you are having, chances are you are not the first person to have a specific problem and your solution is only a mouse click away.</P>\n",
    "### What is Computational Physics?\n",
    "Computational physics is the study and implementation of numerical analysis to solve problems in physics for which a theory already exists. Historically, computational physics was the first application of modern computers in science, and is now a subset of computational science. The process for computational physics is the same for physics, you start with a hypothesis, collect some data, you then write a program that analyses the data to find a relationship and present the results.  The advantage of computational physics is that you can quickly analyse very large data sets, like what we find at <a href=\\\"https://home.cern/\\\">CERN</a> or <a href=\\\"https://www.ligo.caltech.edu/\\\">LIGO</a>, this can save time and money. Another advantage is that you can put your analysis on the Internet to let other scrutinize your data and methods, a very important part of science.\n",
    "\n",
    "<img src=\"Computational_physics_diagram.png\"> \n",
    "\n",
    "What this means for you is that you will need to learn a programming language called Python to help you solve problems and analyse data. Each unit in the course will have a set of problems based on the concepts that you will need to solve by writing code in a Notebook, like this one. The Notebook will be graded and handed back to you so you can correct your mistakes and resubmit your work. It is important to learn from your mistakes it not only improves your mark, more importantly, it also improves your understanding of the course material.\n",
    "\n",
    "### Our First  Example\n",
    "Let's start with a simple example from Science 10:\n",
    "\n",
    "A car is travelling at a velocity of 33.33 m/s for 22.21 s, how far will the car travel in this time?\n",
    "\n",
    "The information we have is: v = 33.33 metres/second, t = 22.21 seconds and we need to find distance d = ?.\n",
    "\n",
    "In Science 10 your teacher should have told you that the velocity of an object is found by dividing the distance the object travels by the amount of time it took to cover the distance or\n",
    "\n",
    "$$v = {d} / {t}$$\n",
    "    \n",
    "So if we want to find the distance travelled in the time give that would be\n",
    "\n",
    "$$d = {v} * {t}$$\n",
    "    \n",
    "Let us write the need code.  Here are the step we can use:\n",
    "    1. Our first step is to set the variables.\n",
    "    2. Entre the equation using our variables.\n",
    "    3. Ask the computer to print the answer.\n",
    " <b> Note </b>-We will not be using units at first, we will look at there use later.\n",
    " \n",
    "To run a code cell you need to click on the cell and then type shift and enter at the same time. Try this on the cell below."
   ]
  },
  {
   "cell_type": "code",
   "execution_count": 1,
   "metadata": {
    "collapsed": false
   },
   "outputs": [
    {
     "name": "stdout",
     "output_type": "stream",
     "text": [
      "740.2592999999999\n"
     ]
    }
   ],
   "source": [
    "velocity = 33.33\n",
    "time = 22.21\n",
    "distance = velocity * time\n",
    "print (distance)"
   ]
  },
  {
   "cell_type": "markdown",
   "metadata": {
    "collapsed": true
   },
   "source": [
    "The above cell is a very simple computer program. A program being a set of instructions for the computer to follow, in this case the computer would read the instruction as follows:\n",
    "\n",
    "<B>Line 1:</B> make a variable called velocity and set it to the value of 33.33.  This means that whenever the computer see the word velocity it will replace it with 33.33.\n",
    "\n",
    "<B>Line 2:</B> make a variable called time and set it to the value of 22.21.  Again whenever the variable time is called for the computer knows that it has a value of 22.21.\n",
    "\n",
    "<B>Line 3:</B> make a variable called distance and set it to the value of velocity * (which means to multiply) distance\n",
    "\n",
    "<B>Line 4:</B> the computer is told to output the variable distance to the screen of the computer.\n",
    "\n",
    "Although this seem simple, and very much like what you do in class, this simple code will evolve into something very powerful in later tutorials.\n",
    "\n",
    "### Introduction to Errors\n",
    "\n",
    "The computer reads the program from top to bottom, so if line one, from above, is moved below line four, see below, the computer does not know what velocity_1 is in line two resulting in an error.  An error in your computer code will result in the program failing to run, in the case of Python an error message will be produced that will give you a hint as to what is wrong. At this point you will need to <B>debug</B> your program, find out what went wrong and then fix it.  Try running the code below by clicking on the cell and then type shift and enter at the same time."
   ]
  },
  {
   "cell_type": "code",
   "execution_count": 2,
   "metadata": {
    "collapsed": false,
    "scrolled": true
   },
   "outputs": [
    {
     "ename": "NameError",
     "evalue": "name 'velocity_1' is not defined",
     "output_type": "error",
     "traceback": [
      "\u001b[1;31m---------------------------------------------------------------------------\u001b[0m",
      "\u001b[1;31mNameError\u001b[0m                                 Traceback (most recent call last)",
      "\u001b[1;32m<ipython-input-2-a20fb93a87c3>\u001b[0m in \u001b[0;36m<module>\u001b[1;34m()\u001b[0m\n\u001b[0;32m      1\u001b[0m \u001b[0mtime_1\u001b[0m \u001b[1;33m=\u001b[0m \u001b[1;36m22.21\u001b[0m\u001b[1;33m\u001b[0m\u001b[0m\n\u001b[1;32m----> 2\u001b[1;33m \u001b[0mdistance\u001b[0m \u001b[1;33m=\u001b[0m \u001b[0mvelocity_1\u001b[0m \u001b[1;33m*\u001b[0m \u001b[0mtime_1\u001b[0m\u001b[1;33m\u001b[0m\u001b[0m\n\u001b[0m\u001b[0;32m      3\u001b[0m \u001b[0mprint\u001b[0m \u001b[1;33m(\u001b[0m\u001b[0mdistance\u001b[0m\u001b[1;33m)\u001b[0m\u001b[1;33m\u001b[0m\u001b[0m\n\u001b[0;32m      4\u001b[0m \u001b[0mvelocity_1\u001b[0m \u001b[1;33m=\u001b[0m \u001b[1;36m33.33\u001b[0m\u001b[1;33m\u001b[0m\u001b[0m\n",
      "\u001b[1;31mNameError\u001b[0m: name 'velocity_1' is not defined"
     ]
    }
   ],
   "source": [
    "time_1 = 22.21\n",
    "distance = velocity_1 * time_1\n",
    "print (distance)\n",
    "velocity_1 = 33.33"
   ]
  },
  {
   "cell_type": "markdown",
   "metadata": {},
   "source": [
    "The last line in the error message tells you what your error is, in this case the computer has no idea what you mean by velocity_1. Don't forget that each line is run in the order that they appear and as velocity_1 is not defined yet it doesn't know what to do when it is called in the program. The ----> tells you where your error is, in this case line two. \n",
    "\n",
    "Error codes for Python can be found here: https://docs.python.org/3.5/tutorial/errors.html . One of the features of the Notebook environment is that it can display live webpages, running the code below will display the error page on the Python site."
   ]
  },
  {
   "cell_type": "code",
   "execution_count": 3,
   "metadata": {
    "collapsed": false,
    "scrolled": false
   },
   "outputs": [
    {
     "data": {
      "text/html": [
       "<iframe src=https://docs.python.org/3.5/tutorial/errors.html width=900 height=550></iframe>"
      ],
      "text/plain": [
       "<IPython.core.display.HTML object>"
      ]
     },
     "execution_count": 3,
     "metadata": {},
     "output_type": "execute_result"
    }
   ],
   "source": [
    "from IPython.core.display import HTML\n",
    "HTML('<iframe src=https://docs.python.org/3.5/tutorial/errors.html width=900 height=550></iframe>')"
   ]
  },
  {
   "cell_type": "markdown",
   "metadata": {
    "collapsed": true
   },
   "source": [
    "Debugging a program is a skill that can only be developed with practice. The more you program the more bugs you will get and in complicated programs the bugs can be very hard to debug.\n",
    "\n",
    "##### Problem 1: Your first computational code.\n",
    "<B>Your turn to code by writing a program to find the solution to the following problem:\n",
    "A car is travelling at an average velocity of 21.25 m/s for a distance of 123.24 metres how long will the car be travelling for the given distance?</B>\n",
    "\n",
    "You can add more cells, if needed, by clicking the <I> Insert </I> tab above and then click <I> Insert cell below</I>. When you have a solution save your work by clicking the save icon above."
   ]
  },
  {
   "cell_type": "code",
   "execution_count": null,
   "metadata": {
    "collapsed": true
   },
   "outputs": [],
   "source": []
  },
  {
   "cell_type": "markdown",
   "metadata": {},
   "source": [
    "What would be ideal is for the program to rearrange the formula for us, dependent on the variables given, and then find the answer.  But to do this we will need to learn some more about programming in general and Python in specific first.\n",
    "</P>\n",
    "### Including all the Elements\n",
    "Just like in your pencil and paper work a problem's solution must contain specific components: defined variables, populated equations, answered in the form of a statement. Lets redo the first problem we solved in this format.\n",
    "\n",
    "Start with the variables which we will turn into computer variables:"
   ]
  },
  {
   "cell_type": "code",
   "execution_count": 4,
   "metadata": {
    "collapsed": true
   },
   "outputs": [],
   "source": [
    "#definition of variables\n",
    "v_i = 33.33\n",
    "t_i = 22.21"
   ]
  },
  {
   "cell_type": "markdown",
   "metadata": {},
   "source": [
    "Notice that I started the cell with a # statement, this is a note, it is not code, these Notes are meant for the reader of the code and are used to explain what is going on in a program. I also used shorter names for my variables which mean less typing. A variables names can be as long as needed, but if it is two or more words they must be separated with an underscore _ not a space.\n",
    "\n",
    "Our next step is to generate an equation that will solve our problem."
   ]
  },
  {
   "cell_type": "code",
   "execution_count": 5,
   "metadata": {
    "collapsed": false
   },
   "outputs": [
    {
     "data": {
      "text/plain": [
       "740.2592999999999"
      ]
     },
     "execution_count": 5,
     "metadata": {},
     "output_type": "execute_result"
    }
   ],
   "source": [
    "# solution equation from v=d/t\n",
    "d=v_i*t_i\n",
    "d"
   ]
  },
  {
   "cell_type": "markdown",
   "metadata": {},
   "source": [
    "Now we need a statement, time for some new coding syntax. Syntax is the form and function of a computer language. Just like with any language, if the syntax is not right the words lose their meaning, in our case the error that will force the program to halt and you to debug.  As you go through the tutorials for computational physics you need to look very closely at the syntax! For example in the code below note the use of % and the result of its use."
   ]
  },
  {
   "cell_type": "code",
   "execution_count": 6,
   "metadata": {
    "collapsed": false
   },
   "outputs": [
    {
     "name": "stdout",
     "output_type": "stream",
     "text": [
      "The car travelled 740 metres in the given time.\n"
     ]
    }
   ],
   "source": [
    "#statement with answer\n",
    "print ('The car travelled %d metres in the given time.' %d)"
   ]
  },
  {
   "cell_type": "markdown",
   "metadata": {},
   "source": [
    "Through the use of % the variable d, distance was dropped into the statement. To do this we needed to tell the program where we wanted the variable to be placed and then which variable we wanted to use.</P>\n",
    "\n",
    "Our job as a computational physicists is to make our code as transparent and simple as possible.  In many cases this means that our programs will be less than 20 lines long however, some programs will need to be 50 lines or more to get the job done.  Inside the Jupyter Notebook environment we have the opportunity to explain the background physics and how and why we chose our solution. These explanations are done in Markdown cells, like the one you are reading right now.</p>\n",
    "\n",
    "To see the anatomy of a Markdown cell you can double click on the cell in the Notebook. What you now is the syntax of the cell, changes can be made to the content and the formating. However,to change the formating you will need to know HTML.\n",
    "\n",
    "The solution to the problem above could be put this into one cell making our work neater, here's how that would look.\n"
   ]
  },
  {
   "cell_type": "code",
   "execution_count": 7,
   "metadata": {
    "collapsed": false
   },
   "outputs": [
    {
     "name": "stdout",
     "output_type": "stream",
     "text": [
      "The car travelled 740 metres in the given time.\n"
     ]
    }
   ],
   "source": [
    "#definition of variables\n",
    "v_i = 33.33\n",
    "t_i = 22.21\n",
    "# solution equation from v=d/t\n",
    "d=v_i*t_i\n",
    "#statement with answer\n",
    "print ('The car travelled %d metres in the given time.' %d)"
   ]
  },
  {
   "cell_type": "markdown",
   "metadata": {},
   "source": [
    "The code from the previous cells was copied and pasted into the above cell. As we will see later we could put this into a standalone program, outside of the Jupyter environment, so it can be run over and over again.</P>\n",
    "\n",
    "Ideally we should be able to write a program that allows us to solve multiple problems based on the same theme, not just in physics but any subject. This is where we are heading, but to start this journey we need to learn to think like a computer and understand its limitations."
   ]
  },
  {
   "cell_type": "markdown",
   "metadata": {
    "collapsed": true
   },
   "source": [
    "### Variables and Types\n",
    "Python is an object oriented programming language, not statically typed like many other programming languages making it easier to understand, write and read programs. As an object oriented language every variable in Python is an object. This makes the control and manipulation of parts of a program easyer for the writer. As we have already seen variables are an important part of a program. </P>\n",
    "\n",
    "Simply put variables are a reserved memory space to hold a value, set by the user, that can be called when needed and used by the program to accomplish a task. They come is several types, integers or floats and characters or strings. </P>\n",
    "\n",
    "#### Numbers\n",
    "For our needs Python supports two types of numbers - integers and floating points, it also supports complex numbers that will not be explained in this tutorial.<P>To define an integer, use the following syntax:</P>"
   ]
  },
  {
   "cell_type": "code",
   "execution_count": 8,
   "metadata": {
    "collapsed": false
   },
   "outputs": [
    {
     "name": "stdout",
     "output_type": "stream",
     "text": [
      "7\n"
     ]
    },
    {
     "data": {
      "text/plain": [
       "7"
      ]
     },
     "execution_count": 8,
     "metadata": {},
     "output_type": "execute_result"
    }
   ],
   "source": [
    "# Here I set a variable called myint to equal 7\n",
    "myint = 7\n",
    "#Now I ask for the computer to output the content of the variable.\n",
    "print(myint)\n",
    "#Just typing the variable's name, without the print command, gets the same output \n",
    "#but this is not a clean way to write code.\n",
    "myint"
   ]
  },
  {
   "cell_type": "markdown",
   "metadata": {},
   "source": [
    "Notice that the output for the print statement comes first followed by the output of the call for the <I>myint</I> variable. </P>\n",
    "\n",
    "I could have just typed 7 and run the cell, see below, to get the same output however, I can't call on that integer as a variable in my future code."
   ]
  },
  {
   "cell_type": "code",
   "execution_count": 9,
   "metadata": {
    "collapsed": false
   },
   "outputs": [
    {
     "data": {
      "text/plain": [
       "7"
      ]
     },
     "execution_count": 9,
     "metadata": {},
     "output_type": "execute_result"
    }
   ],
   "source": [
    "7"
   ]
  },
  {
   "cell_type": "markdown",
   "metadata": {
    "collapsed": true
   },
   "source": [
    "Integers are limiting in Phyics, floats are much more important.\n",
    "<P>To define a floating point number, you may use one of the following notations:<P/>"
   ]
  },
  {
   "cell_type": "code",
   "execution_count": 10,
   "metadata": {
    "collapsed": false
   },
   "outputs": [
    {
     "name": "stdout",
     "output_type": "stream",
     "text": [
      "7.0\n"
     ]
    }
   ],
   "source": [
    "myfloat = 7.0\n",
    "#Or\n",
    "myfloat = float(7)\n",
    "print (myfloat)"
   ]
  },
  {
   "cell_type": "markdown",
   "metadata": {
    "collapsed": true
   },
   "source": [
    "The int or integer is a whole number, whereas a float is a number with a decimal value.  In Physics we use a lot of floats like $9.80 m/s^2$ . <P> Variables can also be letters or strings of letters."
   ]
  },
  {
   "cell_type": "code",
   "execution_count": 11,
   "metadata": {
    "collapsed": false,
    "scrolled": true
   },
   "outputs": [
    {
     "name": "stdout",
     "output_type": "stream",
     "text": [
      "Hello\n"
     ]
    }
   ],
   "source": [
    "myint = 'Hello'\n",
    "print (myint)"
   ]
  },
  {
   "cell_type": "markdown",
   "metadata": {},
   "source": [
    "Notice that the variable myint, which was defined as 7, is now a string that spells out Hello. Another way to print Hello is shown below, again the syntex is import "
   ]
  },
  {
   "cell_type": "code",
   "execution_count": 12,
   "metadata": {
    "collapsed": false
   },
   "outputs": [
    {
     "name": "stdout",
     "output_type": "stream",
     "text": [
      "Hello\n",
      "Hello\n"
     ]
    }
   ],
   "source": [
    "print (\"Hello\")\n",
    "#Or\n",
    "print ('Hello')"
   ]
  },
  {
   "cell_type": "markdown",
   "metadata": {},
   "source": [
    "Note that the end result is the same, that's one nice thing about Python over other languages, there are many ways to get the job done."
   ]
  },
  {
   "cell_type": "markdown",
   "metadata": {},
   "source": [
    "####  Calculation\n",
    "Note that the programs above perform simple mathematical operations. In a program math can be done on two types of variables: numbers and strings. Numbers we are familiar with, math with strings less so.<P>\n",
    "Numbers come in two types in Python integer (1, 2, 3, ...) and float (1.1, 2.2, 3.14,. . .) with these two types of numbers we can do simple math, we will do complex math in another notebook."
   ]
  },
  {
   "cell_type": "code",
   "execution_count": 13,
   "metadata": {
    "collapsed": false
   },
   "outputs": [
    {
     "name": "stdout",
     "output_type": "stream",
     "text": [
      "5.4\n",
      "1.4\n",
      "6.8\n",
      "4\n"
     ]
    }
   ],
   "source": [
    "a = 2    # Integer\n",
    "b = 3.4  # Float\n",
    "\n",
    "print (a + b)    # Addition\n",
    "print (b - a )   # Subtraction\n",
    "print (a * b)    # Multiplication\n",
    "print (a**2)     #Power"
   ]
  },
  {
   "cell_type": "markdown",
   "metadata": {
    "collapsed": true
   },
   "source": [
    "Try changing the values of the variables a and b above and rerunning the code.  Of course you can do this math in your head or with a calculator but the power of computational physics is being able to do repetitive calculations quickly. </P>There is something important to note when it comes to division.  Run the cells below "
   ]
  },
  {
   "cell_type": "code",
   "execution_count": 14,
   "metadata": {
    "collapsed": false
   },
   "outputs": [
    {
     "name": "stdout",
     "output_type": "stream",
     "text": [
      "2.3333333333333335\n",
      "2.3333333333333335\n"
     ]
    }
   ],
   "source": [
    "a = 7\n",
    "b = 3\n",
    "c = 3.0\n",
    "\n",
    "# Division?\n",
    "print (a / b)    \n",
    "print (a / c)"
   ]
  },
  {
   "cell_type": "markdown",
   "metadata": {},
   "source": [
    "Notice that both of these print functions have the same output unless you are running an older version of Python in which case they don't.  Older versions of Python rounds the division of integers and only shows the actual value when a float is used.  \n",
    "\n",
    "Now lets look at math with string, a group of letter and/or numbers strung together."
   ]
  },
  {
   "cell_type": "code",
   "execution_count": 15,
   "metadata": {
    "collapsed": false
   },
   "outputs": [
    {
     "name": "stdout",
     "output_type": "stream",
     "text": [
      "Hello World\n",
      "Hello, Mad World!\n"
     ]
    }
   ],
   "source": [
    "a = \"Hello\"  # String\n",
    "b = \" World\" # Another string\n",
    "\n",
    "print (a + b)  # this will output verable a added to b\n",
    "\n",
    "name = \"Mad World\"\n",
    "print (\"Hello, %s!\" % name) # String format"
   ]
  },
  {
   "cell_type": "markdown",
   "metadata": {},
   "source": [
    "Note that the last two lines of this code use a variable, name, and an output format that imbeds the variable output in a print function. The first % is used to tell Python where you want to place the variable, the second % tells Python what to put there, in this case the variable name.\n",
    "\n",
    "One of the nice things about Python is that no matter what you do in Python you can't break the computer.  However, we can crash the program when we tell Python to do something it does not understand. Here is an example:"
   ]
  },
  {
   "cell_type": "code",
   "execution_count": 16,
   "metadata": {
    "collapsed": false
   },
   "outputs": [
    {
     "ename": "TypeError",
     "evalue": "unsupported operand type(s) for +: 'int' and 'str'",
     "output_type": "error",
     "traceback": [
      "\u001b[1;31m---------------------------------------------------------------------------\u001b[0m",
      "\u001b[1;31mTypeError\u001b[0m                                 Traceback (most recent call last)",
      "\u001b[1;32m<ipython-input-16-f0e339fdba9a>\u001b[0m in \u001b[0;36m<module>\u001b[1;34m()\u001b[0m\n\u001b[0;32m      2\u001b[0m \u001b[0mb\u001b[0m\u001b[1;33m=\u001b[0m\u001b[1;33m(\u001b[0m\u001b[1;34m\"Five \"\u001b[0m\u001b[1;33m)\u001b[0m\u001b[1;33m\u001b[0m\u001b[0m\n\u001b[0;32m      3\u001b[0m \u001b[1;33m\u001b[0m\u001b[0m\n\u001b[1;32m----> 4\u001b[1;33m \u001b[0mc\u001b[0m\u001b[1;33m=\u001b[0m \u001b[0ma\u001b[0m\u001b[1;33m+\u001b[0m\u001b[0mb\u001b[0m\u001b[1;33m\u001b[0m\u001b[0m\n\u001b[0m\u001b[0;32m      5\u001b[0m \u001b[0mprint\u001b[0m\u001b[1;33m(\u001b[0m\u001b[0mc\u001b[0m\u001b[1;33m)\u001b[0m\u001b[1;33m\u001b[0m\u001b[0m\n",
      "\u001b[1;31mTypeError\u001b[0m: unsupported operand type(s) for +: 'int' and 'str'"
     ]
    }
   ],
   "source": [
    "a=4\n",
    "b=(\"Five \")\n",
    "\n",
    "c= a+b\n",
    "print(c)"
   ]
  },
  {
   "cell_type": "markdown",
   "metadata": {},
   "source": [
    "The output is an error, notice that the line with the error is indicated by an arrow (---->) and a line number, 4 in this case. The \"TypeError\" tells you what went wrong. Error codes are Python's way of telling you it doesn't understand what you are asking it to do. In this case adding an integer to a string. It then becomes the job of the programmer, you, to fix the error; again this is called debugging a program. In this case we could change the + to a * and see what happens.<p/> We have seen how % can be used in a statement, now we are going to look at an operator that we allow the using to input a value and have it used as a variable."
   ]
  },
  {
   "cell_type": "code",
   "execution_count": 17,
   "metadata": {
    "collapsed": false
   },
   "outputs": [
    {
     "name": "stdout",
     "output_type": "stream",
     "text": [
      "This program will find the area of a circle.\n",
      "Enter radius in centemetres:2\n",
      "The area of the circle is 12.56\n"
     ]
    }
   ],
   "source": [
    "print ('This program will find the area of a circle.')\n",
    "rad = int(input(\"Enter radius in centemetres:\"))\n",
    "area = 3.14*(rad**2)\n",
    "print (\"The area of the circle is %s\" %area)"
   ]
  },
  {
   "cell_type": "markdown",
   "metadata": {},
   "source": [
    "In the program above the important line is # 2, which is an input line.  As you can see, by running the program, this line opens an input box that waits for a radius value to be entered. What ever value is input is assigned to the variable rad and then used in the rest of the program. When you rerun the program you can find the area of many different circles by entering different radii."
   ]
  },
  {
   "cell_type": "markdown",
   "metadata": {},
   "source": [
    "<B> Now it's your turn. In the code cell below write a program that computes and outputs the volume of a sphere where the radius is input by the user. The input and output should be in the form of a sentence. Once you have a working program click the save icon at the top of the screen. Don't forget to include comments.</B>"
   ]
  },
  {
   "cell_type": "code",
   "execution_count": null,
   "metadata": {
    "collapsed": false
   },
   "outputs": [],
   "source": []
  },
  {
   "cell_type": "markdown",
   "metadata": {
    "collapsed": true
   },
   "source": [
    "Before you hand in this tutorial you will need to change its name using the following format <B> yourname_PH12_CT_1.ipynb</B> relpace your first and last name for yourname.  Email me your tutorial at my school email account."
   ]
  }
 ],
 "metadata": {
  "anaconda-cloud": {},
  "kernelspec": {
   "display_name": "Python [Root]",
   "language": "python",
   "name": "Python [Root]"
  },
  "language_info": {
   "codemirror_mode": {
    "name": "ipython",
    "version": 3
   },
   "file_extension": ".py",
   "mimetype": "text/x-python",
   "name": "python",
   "nbconvert_exporter": "python",
   "pygments_lexer": "ipython3",
   "version": "3.5.2"
  }
 },
 "nbformat": 4,
 "nbformat_minor": 0
}

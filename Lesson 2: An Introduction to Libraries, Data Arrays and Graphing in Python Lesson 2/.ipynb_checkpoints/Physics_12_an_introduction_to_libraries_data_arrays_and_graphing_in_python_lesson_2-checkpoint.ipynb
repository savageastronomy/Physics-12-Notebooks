{
 "cells": [
  {
   "cell_type": "markdown",
   "metadata": {},
   "source": [
    "#  Physics 12 An Introduction to Libraries, Data Arrays and Graphing in Python\n",
    "Now that you know a little about Python, programing and Jupyter Notebooks we are going to look at how Python can be used to work with data.   In this notebook we will start with an introduction to two libraries, numpy and matplotlib. The first library allows data to be input or imported into a program where math can be done with the data. The second libaray allows us to plot the data and/or our results. We will focus on numpy in this notebook, only using matplotlib in its most basic form to visualize what we have done in numpy.  The next notebook will focus on Matplotlib.\n",
    "\n",
    "## Libraries\n",
    "Libraries are a collection of python modules under a common namespace. Each of the modules has a specific task that is related to the over function of the library. Below is an example of how a library is imported into your code."
   ]
  },
  {
   "cell_type": "code",
   "execution_count": null,
   "metadata": {
    "collapsed": true
   },
   "outputs": [],
   "source": [
    "from numpy import *"
   ]
  },
  {
   "cell_type": "markdown",
   "metadata": {},
   "source": [
    "When you run this code, shift and enter at the same time, the library numpy will be opened for you to access. Note that there is no output to indicate that the library is open. To see that it is open we can make an array, which python by itself would not recognise."
   ]
  },
  {
   "cell_type": "code",
   "execution_count": null,
   "metadata": {
    "collapsed": false
   },
   "outputs": [],
   "source": [
    "a=array([1,2,3,4])\n",
    "print(a)"
   ]
  },
  {
   "cell_type": "markdown",
   "metadata": {},
   "source": [
    "Notice that the output is the group of numbers you assigned to your array called a. This method of starting a library is not the standard and should be avoided if you are writing a program you accept others to read. With this code you are importing the whole library using more of the computer's resources, like its memory; if you are just playing around or testing code this is a quick way to get started. The more formal method is as follows:"
   ]
  },
  {
   "cell_type": "code",
   "execution_count": null,
   "metadata": {
    "collapsed": true
   },
   "outputs": [],
   "source": [
    "import numpy as np\n",
    "import matplotlib.pyplot as py\n",
    "%matplotlib inline"
   ]
  },
  {
   "cell_type": "markdown",
   "metadata": {},
   "source": [
    "Now the library numpy is import with the name np attached to it. From thed library Matplotlib I imported a small part of this library called pyplot as py. So when we right code we will need to add in np or py when we call on a function from a library."
   ]
  },
  {
   "cell_type": "code",
   "execution_count": null,
   "metadata": {
    "collapsed": false
   },
   "outputs": [],
   "source": [
    "a=np.array([1,2,3,4])\n",
    "print(a)"
   ]
  },
  {
   "cell_type": "markdown",
   "metadata": {},
   "source": [
    "What's the difference you ask? If you are writing a program that others will read, is very long or dynamic the second method of importing a library will force you to tell the reading what library you are calling on and when. This will make their job easier. You should always ensure that your code is clear, to the point and easy to read."
   ]
  },
  {
   "cell_type": "markdown",
   "metadata": {},
   "source": [
    "###  Arrays\n",
    "Arrays are a data set, the array \"a\" in the examples above is a single dominion array or a 1D array. Once an array is entered into the computer’s memory it will stay there until the program is terminated or the computer is turned off. In the cell below the print command is used to output the array assigned to \"a\"."
   ]
  },
  {
   "cell_type": "code",
   "execution_count": null,
   "metadata": {
    "collapsed": false
   },
   "outputs": [],
   "source": [
    "print(a)"
   ]
  },
  {
   "cell_type": "markdown",
   "metadata": {},
   "source": [
    "We can do math with arrays but first we will need another array.  **Make an array called b of the four elements 2,3,4,5. Note the syntax used above to help generate the array and then print it.**"
   ]
  },
  {
   "cell_type": "code",
   "execution_count": null,
   "metadata": {
    "collapsed": false
   },
   "outputs": [],
   "source": []
  },
  {
   "cell_type": "markdown",
   "metadata": {},
   "source": [
    "Lets try some simple math:"
   ]
  },
  {
   "cell_type": "code",
   "execution_count": null,
   "metadata": {
    "collapsed": false
   },
   "outputs": [],
   "source": [
    "print(a+b)"
   ]
  },
  {
   "cell_type": "markdown",
   "metadata": {},
   "source": [
    "Notice that the first value in array \"a\" was added to array \"b\" first value and so on. Your results should be [3 5 7 9] if not then check the array you built. In the cell below you subtract, multiply and divide the arrays."
   ]
  },
  {
   "cell_type": "code",
   "execution_count": null,
   "metadata": {
    "collapsed": false
   },
   "outputs": [],
   "source": [
    "print(a-b)\n",
    "print(a*b)\n",
    "print(a/b)"
   ]
  },
  {
   "cell_type": "markdown",
   "metadata": {},
   "source": [
    "We can modify an array as follows:"
   ]
  },
  {
   "cell_type": "code",
   "execution_count": null,
   "metadata": {
    "collapsed": false
   },
   "outputs": [],
   "source": [
    "a=np.array([0,1,2,3,4])\n",
    "print (a)"
   ]
  },
  {
   "cell_type": "markdown",
   "metadata": {},
   "source": [
    "Now try adding the array a to b."
   ]
  },
  {
   "cell_type": "code",
   "execution_count": null,
   "metadata": {
    "collapsed": false
   },
   "outputs": [],
   "source": [
    "print(a+b)"
   ]
  },
  {
   "cell_type": "markdown",
   "metadata": {},
   "source": [
    "The error massages let us know when we have done something wrong, in this case we are trying to add a five element array to a four element array. Python is very good at letting you know when we do something wrong, the problem is the error codes are hard to interpret. https://docs.python.org/3.5/tutorial/errors.html is web page that will help you interpret the more common ones."
   ]
  },
  {
   "cell_type": "markdown",
   "metadata": {},
   "source": [
    "Python can handle multi-dimensional array allowing the user to preform linear algebra, a very useful form of mathematics. Although we don’t have time to get into this form of mathematics you should be taking a Linear Algebra course at university, even if it’s not a requirement for your program take it as an elective.\n",
    "\n",
    "Here is a 2D array"
   ]
  },
  {
   "cell_type": "code",
   "execution_count": null,
   "metadata": {
    "collapsed": false
   },
   "outputs": [],
   "source": [
    "a=np.array([[1,2],[3,4]])\n",
    "print(a)"
   ]
  },
  {
   "cell_type": "markdown",
   "metadata": {},
   "source": [
    "Notice the syntax for a 2D array is different than a 1D array. If you forget brackets,[], or parentheses, (), you will get an error back. Again the syntax within any programing language is very important. Note that we now have ordered pairs of (1,3) and (2,4) that we can call on.\n",
    "\n",
    "The arrays within Python can be of many dominions which allows you to tackle very complex problems, but for now we will keep it simple.\n",
    "\n",
    "Another way of making an array is with the arange statement, here is an example:"
   ]
  },
  {
   "cell_type": "code",
   "execution_count": null,
   "metadata": {
    "collapsed": false
   },
   "outputs": [],
   "source": [
    "a=np.arange (1,18,1.5)\n",
    "print(a)"
   ]
  },
  {
   "cell_type": "markdown",
   "metadata": {},
   "source": [
    "As you can see this is a long 1D array it starts at one and ends before it reaches 18 increasing by 1.5 each time.\n",
    "**Try modifying the array above by starting at 0 ends at 12 and increase by 0.25 each time.** Note that to get the array to end at 12 you cannot just input 12 into the arange statement. You have to think like Python does! Save the Notebook when you have your answer.\n",
    "\n",
    "**This type of array can come in handy when you are graphing data with the x value being time that starts at zero, ends at 3.0 seconds and increases by 0.6. In the cell below write the code that will generate that data for you.**"
   ]
  },
  {
   "cell_type": "code",
   "execution_count": null,
   "metadata": {
    "collapsed": false
   },
   "outputs": [],
   "source": []
  },
  {
   "cell_type": "markdown",
   "metadata": {},
   "source": [
    "###  Importing Data Files\n",
    "In this course we will be using data files in our statistical work, in this section we will be looking at how to handle them within Python. We will be using comma separated text files that is a very common file type for data; excel can export files in this format.\n",
    "\n",
    "First the text data file needs to be in the same folder as the Notebook or program file is in, otherwise it can't see it. Next we execute a line of code that imports the file and then we can display the file. The common format is as follows:\n",
    "\n",
    "name=loadtxt('filename.txt) \n",
    "\n",
    "Where name is the name you are giving your data within Python and filename is the name of the file.\n",
    "In our case the name of the file is test data.\n"
   ]
  },
  {
   "cell_type": "code",
   "execution_count": null,
   "metadata": {
    "collapsed": false
   },
   "outputs": [],
   "source": [
    "test=np.loadtxt('Test Data.txt')\n",
    "print(test)"
   ]
  },
  {
   "cell_type": "markdown",
   "metadata": {},
   "source": [
    "In this case the first column is time and the second is distance. So we can see that at 0.5 seconds the object has travelled 7 metres.  Notice that the data has been imported as ordered pairs (x,y).  Which means that this data can be plotted but first we need to isolate the x and y values with a process called slicing.  (It is important to note, for this section, that Python counts objects in its array starting with zero. So 0.4 is in column 0 row 4. 9 is in column 1 row 7.) Run the code to see what happens:  "
   ]
  },
  {
   "cell_type": "code",
   "execution_count": null,
   "metadata": {
    "collapsed": false
   },
   "outputs": [],
   "source": [
    "x=test[ : ,0]\n",
    "y=test[ : ,1]\n",
    "print(x)\n",
    "print(y)"
   ]
  },
  {
   "cell_type": "markdown",
   "metadata": {},
   "source": [
    "Note that the imported data is now in two single dimensional arrays, x and y. This was done through a splice commend which is set out as follows variable_name=name_of_data [starting_row: ending_row, the_column_you_are_calling_for] more about splicing in the next Notebook.  We are now going to use the other library we imported earlier, Matplotlib, to plot the data. Plotting data is now as easy as using the plot common with the right variables."
   ]
  },
  {
   "cell_type": "code",
   "execution_count": null,
   "metadata": {
    "collapsed": false
   },
   "outputs": [],
   "source": [
    "py.plot(x,y)"
   ]
  },
  {
   "cell_type": "markdown",
   "metadata": {},
   "source": [
    "As you can see I started the plot command with py. that should tell you that matplotlib was used to plot the data. Python did most of the work for us, setting the x and y axis for us. This library has many plot functions that we will explore in another Notebook.  For now we are doing to try one last thing before your assignment for this Notebook.  What I want to do is just plot the data points and not connect them with a line. "
   ]
  },
  {
   "cell_type": "code",
   "execution_count": null,
   "metadata": {
    "collapsed": false
   },
   "outputs": [],
   "source": [
    "py.plot(x,y,'^')"
   ]
  },
  {
   "cell_type": "markdown",
   "metadata": {},
   "source": [
    "As you can see the modification I made to the code placed triangles at each of the data points. If I wanted to connect the data points here is the code."
   ]
  },
  {
   "cell_type": "code",
   "execution_count": null,
   "metadata": {
    "collapsed": false
   },
   "outputs": [],
   "source": [
    "py.plot(x,y,'-^')"
   ]
  },
  {
   "cell_type": "markdown",
   "metadata": {},
   "source": [
    "Now we change the plot to a yellow line with stars marking the data points."
   ]
  },
  {
   "cell_type": "code",
   "execution_count": null,
   "metadata": {
    "collapsed": false
   },
   "outputs": [],
   "source": [
    "py.plot(x,y,'y-*')"
   ]
  },
  {
   "cell_type": "markdown",
   "metadata": {},
   "source": [
    "####  Prove your understanding\n",
    "**Now it’s your turn, create two 1D array (minimum of 10 data points) that when plotted will show an expediently growth pattern (positive or negative it’s up to you) then plot the data with a blue line and triangles as the data points. Don't forget to import the libraries you will need.**"
   ]
  },
  {
   "cell_type": "code",
   "execution_count": null,
   "metadata": {
    "collapsed": true
   },
   "outputs": [],
   "source": []
  }
 ],
 "metadata": {
  "anaconda-cloud": {},
  "kernelspec": {
   "display_name": "Python [Root]",
   "language": "python",
   "name": "Python [Root]"
  },
  "language_info": {
   "codemirror_mode": {
    "name": "ipython",
    "version": 3
   },
   "file_extension": ".py",
   "mimetype": "text/x-python",
   "name": "python",
   "nbconvert_exporter": "python",
   "pygments_lexer": "ipython3",
   "version": "3.5.2"
  }
 },
 "nbformat": 4,
 "nbformat_minor": 0
}
